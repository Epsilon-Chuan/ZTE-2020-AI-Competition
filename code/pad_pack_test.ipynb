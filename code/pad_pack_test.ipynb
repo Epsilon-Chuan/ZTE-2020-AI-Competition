{
 "cells": [
  {
   "cell_type": "code",
   "execution_count": null,
   "metadata": {},
   "outputs": [],
   "source": [
    "import torch\n",
    "from torch import nn\n",
    "from torch.utils.data import TensorDataset, DataLoader\n",
    "from torch.nn.utils.rnn import pad_sequence, pack_padded_sequence, pad_packed_sequence\n",
    "\n",
    "from utils import load_data, data_set"
   ]
  },
  {
   "cell_type": "code",
   "execution_count": null,
   "metadata": {},
   "outputs": [],
   "source": [
    "text_a, text_b, label = load_data()\n",
    "dataSet = data_set(text_a, text_b, label)"
   ]
  },
  {
   "cell_type": "code",
   "execution_count": null,
   "metadata": {},
   "outputs": [],
   "source": [
    "BS = 16\n",
    "train_set = DataLoader(dataSet, BS, shuffle=True)\n",
    "rnn = nn.RNN(1, 5, batch_first=True)"
   ]
  },
  {
   "cell_type": "code",
   "execution_count": null,
   "metadata": {},
   "outputs": [],
   "source": [
    "for a, b, y, la, lb in train_set:\n",
    "    print(a.shape, b.shape)\n",
    "    a = pack_padded_sequence(\n",
    "        a, la, batch_first=True, enforce_sorted=False)\n",
    "    b = pack_padded_sequence(\n",
    "        b, lb, batch_first=True, enforce_sorted=False)\n",
    "    a = a.to(dtype=torch.float32)\n",
    "    b = b.to(dtype=torch.float32)\n",
    "    out_a, hn_a = rnn(a)\n",
    "    out_b, hn_b = rnn(b)\n",
    "    feature_a = pad_packed_sequence(out_a, batch_first=True)\n",
    "    feature_b = pad_packed_sequence(out_b, batch_first=True)\n",
    "    print(feature_a[0].shape, feature_b[0].shape)\n",
    "    break"
   ]
  }
 ],
 "metadata": {
  "language_info": {
   "codemirror_mode": {
    "name": "ipython",
    "version": 3
   },
   "file_extension": ".py",
   "mimetype": "text/x-python",
   "name": "python",
   "nbconvert_exporter": "python",
   "pygments_lexer": "ipython3",
   "version": "3.7.3-final"
  },
  "orig_nbformat": 2,
  "kernelspec": {
   "name": "python37364bit6000b8628d98434b9a02348fbdcd6ed9",
   "display_name": "Python 3.7.3 64-bit"
  }
 },
 "nbformat": 4,
 "nbformat_minor": 2
}